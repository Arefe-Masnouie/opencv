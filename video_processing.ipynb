{
 "cells": [
  {
   "cell_type": "code",
   "execution_count": 2,
   "metadata": {},
   "outputs": [],
   "source": [
    "import cv2\n",
    "import matplotlib.pyplot as plt"
   ]
  },
  {
   "cell_type": "code",
   "execution_count": 4,
   "metadata": {},
   "outputs": [],
   "source": [
    "face_model = cv2.CascadeClassifier(\"haarcascade_frontalface_alt.xml\")"
   ]
  },
  {
   "cell_type": "code",
   "execution_count": 5,
   "metadata": {},
   "outputs": [],
   "source": [
    "left_eye = cv2.CascadeClassifier(\"haarcascade_lefteye_2splits.xml\")"
   ]
  },
  {
   "cell_type": "code",
   "execution_count": 6,
   "metadata": {},
   "outputs": [],
   "source": [
    "right_eye = cv2.CascadeClassifier(\"haarcascade_righteye_2splits.xml\")"
   ]
  },
  {
   "cell_type": "code",
   "execution_count": 7,
   "metadata": {},
   "outputs": [],
   "source": [
    "cam = cv2.VideoCapture(0)"
   ]
  },
  {
   "cell_type": "code",
   "execution_count": 16,
   "metadata": {},
   "outputs": [],
   "source": [
    "def ishow(image):\n",
    "    cv2.imshow('image', cam)\n",
    "    cv2.waitKey(0)\n",
    "    cv2.destroyAllWindows()"
   ]
  },
  {
   "cell_type": "code",
   "execution_count": 8,
   "metadata": {},
   "outputs": [],
   "source": [
    "_, img = cam.read()\n",
    "gray = cv2.cvtColor(img, cv2.COLOR_BGR2GRAY)\n",
    "face = face_model.detectMultiScale(gray)\n",
    "left = left_eye.detectMultiScale(gray)\n",
    "right = right_eye.detectMultiScale(gray)"
   ]
  },
  {
   "cell_type": "code",
   "execution_count": 25,
   "metadata": {},
   "outputs": [
    {
     "data": {
      "text/plain": [
       "array([[258, 231, 245, 245]])"
      ]
     },
     "execution_count": 25,
     "metadata": {},
     "output_type": "execute_result"
    }
   ],
   "source": [
    "face"
   ]
  },
  {
   "cell_type": "code",
   "execution_count": 26,
   "metadata": {},
   "outputs": [
    {
     "data": {
      "text/plain": [
       "array([[394, 286,  71,  71],\n",
       "       [285, 282,  84,  84]])"
      ]
     },
     "execution_count": 26,
     "metadata": {},
     "output_type": "execute_result"
    }
   ],
   "source": [
    "left"
   ]
  },
  {
   "cell_type": "code",
   "execution_count": 27,
   "metadata": {},
   "outputs": [
    {
     "data": {
      "text/plain": [
       "array([[280, 281,  87,  87],\n",
       "       [395, 293,  63,  63]])"
      ]
     },
     "execution_count": 27,
     "metadata": {},
     "output_type": "execute_result"
    }
   ],
   "source": [
    "right"
   ]
  },
  {
   "cell_type": "code",
   "execution_count": 9,
   "metadata": {},
   "outputs": [],
   "source": [
    "loop = True\n",
    "\n",
    "while loop:\n",
    "    _, img = cam.read()\n",
    "    gray = cv2.cvtColor(img, cv2.COLOR_BGR2GRAY)\n",
    "    face = face_model.detectMultiScale(gray)\n",
    "    left = left_eye.detectMultiScale(gray)\n",
    "    right = right_eye.detectMultiScale(gray)\n",
    "    imgout = img.copy()\n",
    "    #face\n",
    "    x = face[0][0]\n",
    "    y = face[0][1]\n",
    "    x1 = x + face[0][2]\n",
    "    y1 = y + face[0][3]\n",
    "    #left eye\n",
    "    i = left[0][0]\n",
    "    j = left[0][1]\n",
    "    i1 = i + left[0][2]\n",
    "    j1 = j + left[0][3]\n",
    "    #right eye \n",
    "    k = right[0][0]\n",
    "    z = right[0][1]\n",
    "    k1 = k + right[0][2]\n",
    "    z1 = z + right[0][3]\n",
    "\n",
    "    rec = cv2.rectangle(imgout,(x,y), (x1,y1), (0,250,0), 3)\n",
    "    rec1 = cv2.rectangle(imgout,(i,j), (i1,j1), (250,0,250), 2)\n",
    "    rec2 = cv2.rectangle(imgout,(k,z), (k1,z1), (250,0,250), 2)\n",
    "    cv2.imshow(\"pic\", imgout)\n",
    "\n",
    "    if cv2.waitKey(1) == ord(\"q\"):\n",
    "        loop = False\n",
    "        cv2.destroyAllWindows()\n",
    "        break"
   ]
  }
 ],
 "metadata": {
  "kernelspec": {
   "display_name": "base",
   "language": "python",
   "name": "python3"
  },
  "language_info": {
   "codemirror_mode": {
    "name": "ipython",
    "version": 3
   },
   "file_extension": ".py",
   "mimetype": "text/x-python",
   "name": "python",
   "nbconvert_exporter": "python",
   "pygments_lexer": "ipython3",
   "version": "3.8.8"
  }
 },
 "nbformat": 4,
 "nbformat_minor": 2
}
